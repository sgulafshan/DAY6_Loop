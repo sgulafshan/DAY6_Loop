{
 "cells": [
  {
   "cell_type": "code",
   "execution_count": 1,
   "id": "29a193c6",
   "metadata": {},
   "outputs": [
    {
     "name": "stdout",
     "output_type": "stream",
     "text": [
      "['ravi', 'grace', 'naveen', 'gulafshan', 'sameer', 'farhana', 'keerthi']\n"
     ]
    }
   ],
   "source": [
    "students = ['ravi','grace','naveen','gulafshan','sameer','farhana','keerthi']\n",
    "print(students)"
   ]
  },
  {
   "cell_type": "code",
   "execution_count": 2,
   "id": "8719d0f1",
   "metadata": {},
   "outputs": [
    {
     "data": {
      "text/plain": [
       "list"
      ]
     },
     "execution_count": 2,
     "metadata": {},
     "output_type": "execute_result"
    }
   ],
   "source": [
    "type(students)"
   ]
  },
  {
   "cell_type": "code",
   "execution_count": null,
   "id": "9ea51400",
   "metadata": {},
   "outputs": [],
   "source": [
    "Appreciate the above students"
   ]
  },
  {
   "cell_type": "code",
   "execution_count": 3,
   "id": "9e24c536",
   "metadata": {},
   "outputs": [
    {
     "name": "stdout",
     "output_type": "stream",
     "text": [
      "keep up the good work, Ravi\n"
     ]
    }
   ],
   "source": [
    "print(f\"keep up the good work, {students[0].title()}\")"
   ]
  },
  {
   "cell_type": "code",
   "execution_count": 4,
   "id": "56ee939f",
   "metadata": {},
   "outputs": [
    {
     "name": "stdout",
     "output_type": "stream",
     "text": [
      "keep up the good work, Gulafshan\n"
     ]
    }
   ],
   "source": [
    "print(f\"keep up the good work, {students[3].title()}\")"
   ]
  },
  {
   "cell_type": "code",
   "execution_count": null,
   "id": "a2de9640",
   "metadata": {},
   "outputs": [],
   "source": [
    "Appreciate the above students in single shot"
   ]
  },
  {
   "cell_type": "code",
   "execution_count": 6,
   "id": "3877dd2c",
   "metadata": {},
   "outputs": [
    {
     "name": "stdout",
     "output_type": "stream",
     "text": [
      "keep up the good work, Ravi\n",
      "keep up the good work, Grace\n",
      "keep up the good work, Naveen\n",
      "keep up the good work, Gulafshan\n",
      "keep up the good work, Sameer\n",
      "keep up the good work, Farhana\n",
      "keep up the good work, Keerthi\n"
     ]
    }
   ],
   "source": [
    "for x in students:\n",
    "    print(f\"keep up the good work, {x.title()}\")"
   ]
  },
  {
   "cell_type": "code",
   "execution_count": null,
   "id": "213bfef8",
   "metadata": {},
   "outputs": [],
   "source": [
    "writing of code in the loop"
   ]
  },
  {
   "cell_type": "code",
   "execution_count": 7,
   "id": "e79c11da",
   "metadata": {},
   "outputs": [
    {
     "name": "stdout",
     "output_type": "stream",
     "text": [
      "keep up the good work, Ravi\n",
      "I will send the practise work regularly,Ravi\n",
      "keep up the good work, Grace\n",
      "I will send the practise work regularly,Grace\n",
      "keep up the good work, Naveen\n",
      "I will send the practise work regularly,Naveen\n",
      "keep up the good work, Gulafshan\n",
      "I will send the practise work regularly,Gulafshan\n",
      "keep up the good work, Sameer\n",
      "I will send the practise work regularly,Sameer\n",
      "keep up the good work, Farhana\n",
      "I will send the practise work regularly,Farhana\n",
      "keep up the good work, Keerthi\n",
      "I will send the practise work regularly,Keerthi\n"
     ]
    }
   ],
   "source": [
    "for x in students:\n",
    "    print(f\"keep up the good work, {x.title()}\")\n",
    "    print(f\"I will send the practise work regularly,{x.title()}\")"
   ]
  },
  {
   "cell_type": "code",
   "execution_count": null,
   "id": "582ea8d8",
   "metadata": {},
   "outputs": [],
   "source": [
    "enhancement of code"
   ]
  },
  {
   "cell_type": "code",
   "execution_count": 8,
   "id": "07fbae9d",
   "metadata": {},
   "outputs": [
    {
     "name": "stdout",
     "output_type": "stream",
     "text": [
      "keep up the good work, Ravi\n",
      "I will send the practise work regularly,Ravi.\n",
      "\n",
      "keep up the good work, Grace\n",
      "I will send the practise work regularly,Grace.\n",
      "\n",
      "keep up the good work, Naveen\n",
      "I will send the practise work regularly,Naveen.\n",
      "\n",
      "keep up the good work, Gulafshan\n",
      "I will send the practise work regularly,Gulafshan.\n",
      "\n",
      "keep up the good work, Sameer\n",
      "I will send the practise work regularly,Sameer.\n",
      "\n",
      "keep up the good work, Farhana\n",
      "I will send the practise work regularly,Farhana.\n",
      "\n",
      "keep up the good work, Keerthi\n",
      "I will send the practise work regularly,Keerthi.\n",
      "\n"
     ]
    }
   ],
   "source": [
    "for x in students:\n",
    "    print(f\"keep up the good work, {x.title()}\")\n",
    "    print(f\"I will send the practise work regularly,{x.title()}.\\n\")"
   ]
  },
  {
   "cell_type": "code",
   "execution_count": null,
   "id": "797f0d44",
   "metadata": {},
   "outputs": [],
   "source": [
    "Slicing of List"
   ]
  },
  {
   "cell_type": "code",
   "execution_count": 9,
   "id": "37b1da8f",
   "metadata": {},
   "outputs": [
    {
     "name": "stdout",
     "output_type": "stream",
     "text": [
      "['ravi', 'grace', 'naveen', 'gulafshan', 'sameer', 'farhana', 'keerthi']\n"
     ]
    }
   ],
   "source": [
    "print(students)"
   ]
  },
  {
   "cell_type": "code",
   "execution_count": 10,
   "id": "9747618e",
   "metadata": {},
   "outputs": [
    {
     "name": "stdout",
     "output_type": "stream",
     "text": [
      "['ravi']\n"
     ]
    }
   ],
   "source": [
    "print(students[0 :1])"
   ]
  },
  {
   "cell_type": "code",
   "execution_count": 11,
   "id": "1433c778",
   "metadata": {},
   "outputs": [
    {
     "name": "stdout",
     "output_type": "stream",
     "text": [
      "['ravi', 'grace']\n"
     ]
    }
   ],
   "source": [
    "print(students[0:2])"
   ]
  },
  {
   "cell_type": "code",
   "execution_count": null,
   "id": "0965c19c",
   "metadata": {},
   "outputs": [],
   "source": []
  }
 ],
 "metadata": {
  "kernelspec": {
   "display_name": "Python 3",
   "language": "python",
   "name": "python3"
  },
  "language_info": {
   "codemirror_mode": {
    "name": "ipython",
    "version": 3
   },
   "file_extension": ".py",
   "mimetype": "text/x-python",
   "name": "python",
   "nbconvert_exporter": "python",
   "pygments_lexer": "ipython3",
   "version": "3.8.8"
  }
 },
 "nbformat": 4,
 "nbformat_minor": 5
}
